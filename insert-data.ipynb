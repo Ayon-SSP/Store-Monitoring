{
 "cells": [
  {
   "attachments": {},
   "cell_type": "markdown",
   "metadata": {},
   "source": [
    "## All the insert queries\n",
    "To start service ```sudo service postgresql start```"
   ]
  },
  {
   "cell_type": "code",
   "execution_count": 1,
   "metadata": {},
   "outputs": [
    {
     "name": "stdout",
     "output_type": "stream",
     "text": [
      "Connecting to the PostgreSQL database...\n",
      "Connected to the PostgreSQL database\n",
      "('PostgreSQL 12.14 (Ubuntu 12.14-0ubuntu0.20.04.1) on x86_64-pc-linux-gnu, compiled by gcc (Ubuntu 9.4.0-1ubuntu1~20.04.1) 9.4.0, 64-bit',)\n",
      "Database connection closed.\n"
     ]
    }
   ],
   "source": [
    "# To check the connection\n",
    "import psycopg2\n",
    "import Content.Configuration as config\n",
    "\n",
    "conn = None\n",
    "try:\n",
    "    # connect to the PostgreSQL server\n",
    "    print('Connecting to the PostgreSQL database...')\n",
    "    conn = psycopg2.connect(\n",
    "        host = config.hostname,\n",
    "        dbname = config.database,\n",
    "        user = config.username,\n",
    "        password = config.pwd,\n",
    "        port = config.port_id\n",
    "    )\n",
    "\n",
    "    # Creating a cursor with name cur.\n",
    "    cur = conn.cursor()\n",
    "    print('Connected to the PostgreSQL database')\n",
    "\n",
    "    # Execute a query:\n",
    "    # To display the PostgreSQL\n",
    "    # database server version\n",
    "    cur.execute('SELECT version()')\n",
    "    print(cur.fetchone())\n",
    "\n",
    "    # Close the connection\n",
    "    cur.close()\n",
    "\n",
    "except(Exception, psycopg2.DatabaseError) as error:\n",
    "    print(error)\n",
    "finally:\n",
    "    if conn is not None:\n",
    "        conn.close()\n",
    "        print('Database connection closed.')"
   ]
  }
 ],
 "metadata": {
  "kernelspec": {
   "display_name": "env",
   "language": "python",
   "name": "python3"
  },
  "language_info": {
   "codemirror_mode": {
    "name": "ipython",
    "version": 3
   },
   "file_extension": ".py",
   "mimetype": "text/x-python",
   "name": "python",
   "nbconvert_exporter": "python",
   "pygments_lexer": "ipython3",
   "version": "3.8.10"
  },
  "orig_nbformat": 4
 },
 "nbformat": 4,
 "nbformat_minor": 2
}
